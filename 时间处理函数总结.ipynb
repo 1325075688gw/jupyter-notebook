{
 "cells": [
  {
   "cell_type": "markdown",
   "metadata": {},
   "source": [
    "# datetime模块用于是date和time模块的合集，datetime有两个常量，MAXYEAR和MINYEAR，分别是9999和1.\n",
    "\n",
    "datetime模块定义了5个类，分别是\n",
    "\n",
    "1.datetime.date：表示日期的类\n",
    "\n",
    "2.datetime.datetime：表示日期时间的类\n",
    "\n",
    "3.datetime.time：表示时间的类\n",
    "\n",
    "4.datetime.timedelta：表示时间间隔，即两个时间点的间隔\n",
    "\n",
    "5.datetime.tzinfo：时区的相关信息\n",
    "## 因为datetime模块是date和time模块的合集，所以为了简单起见，我们只学习datetime和timedelta模块，至于tzinfo时区模块，个人认为没乱用，不然会晕的。\n",
    "\n",
    "** 最后再吐槽一句，python不是追求PythonIC？？其实很多地方都有重复，头都大了（可能是因为，我是小白的缘故）**"
   ]
  },
  {
   "cell_type": "code",
   "execution_count": 1,
   "metadata": {},
   "outputs": [],
   "source": [
    "from datetime import datetime"
   ]
  },
  {
   "cell_type": "markdown",
   "metadata": {},
   "source": [
    "- 1.1 获取当前datetime\n",
    "- 1.2 获取当前datetime的date（即年、月、日）\n",
    "- 1.3 获取当前datetime的date（即时、分、秒）"
   ]
  },
  {
   "cell_type": "code",
   "execution_count": 2,
   "metadata": {},
   "outputs": [
    {
     "data": {
      "text/plain": [
       "datetime.datetime(2018, 12, 12, 11, 49, 43, 481739)"
      ]
     },
     "execution_count": 2,
     "metadata": {},
     "output_type": "execute_result"
    }
   ],
   "source": [
    "datetime.now()"
   ]
  },
  {
   "cell_type": "code",
   "execution_count": 3,
   "metadata": {},
   "outputs": [
    {
     "data": {
      "text/plain": [
       "datetime.datetime(2018, 12, 12, 11, 49, 43, 825759)"
      ]
     },
     "execution_count": 3,
     "metadata": {},
     "output_type": "execute_result"
    }
   ],
   "source": [
    "datetime.today()"
   ]
  },
  {
   "cell_type": "code",
   "execution_count": 4,
   "metadata": {},
   "outputs": [
    {
     "data": {
      "text/plain": [
       "datetime.time(11, 49, 44, 91774)"
      ]
     },
     "execution_count": 4,
     "metadata": {},
     "output_type": "execute_result"
    }
   ],
   "source": [
    "t=datetime.now().time()\n",
    "t"
   ]
  },
  {
   "cell_type": "code",
   "execution_count": 5,
   "metadata": {},
   "outputs": [
    {
     "data": {
      "text/plain": [
       "datetime.date(2018, 12, 12)"
      ]
     },
     "execution_count": 5,
     "metadata": {},
     "output_type": "execute_result"
    }
   ],
   "source": [
    "d=datetime.now().date()\n",
    "d"
   ]
  },
  {
   "cell_type": "code",
   "execution_count": 6,
   "metadata": {},
   "outputs": [
    {
     "name": "stdout",
     "output_type": "stream",
     "text": [
      "datetime.combine(date,time): 2018-12-12 11:49:44.091774\n"
     ]
    }
   ],
   "source": [
    "print ('datetime.combine(date,time): '+str(datetime.combine(d,t)))"
   ]
  },
  {
   "cell_type": "markdown",
   "metadata": {},
   "source": [
    "- **`strftime`** 将一个时间结构格式化为一个字符串 （输入的时间字符串，会按你规定格式输出，你可以指定年、月、日之间用‘-’还是‘：’连接(注：用英文输入法)）"
   ]
  },
  {
   "cell_type": "code",
   "execution_count": 7,
   "metadata": {},
   "outputs": [
    {
     "data": {
      "text/plain": [
       "'Dec-12-2018 11:49:45'"
      ]
     },
     "execution_count": 7,
     "metadata": {},
     "output_type": "execute_result"
    }
   ],
   "source": [
    "datetime.now().strftime('%b-%d-%Y %H:%M:%S')#：由日期格式转化为字符串格式  %X代表时分秒，可以简写 "
   ]
  },
  {
   "cell_type": "code",
   "execution_count": 8,
   "metadata": {},
   "outputs": [
    {
     "data": {
      "text/plain": [
       "'12:12:2018      11:49:45'"
      ]
     },
     "execution_count": 8,
     "metadata": {},
     "output_type": "execute_result"
    }
   ],
   "source": [
    "datetime.now().strftime('%m:%d:%Y      %X')#：由日期格式转化为字符串格式  %X代表时分秒，可以简写"
   ]
  },
  {
   "cell_type": "markdown",
   "metadata": {},
   "source": [
    "- ** `strptime` ** 则是将一个字符串格式化为一个时间结构。"
   ]
  },
  {
   "cell_type": "code",
   "execution_count": 9,
   "metadata": {},
   "outputs": [
    {
     "data": {
      "text/plain": [
       "datetime.datetime(2017, 4, 16, 21, 1, 35)"
      ]
     },
     "execution_count": 9,
     "metadata": {},
     "output_type": "execute_result"
    }
   ],
   "source": [
    "datetime.strptime('Apr-16-2017 21:01:35', '%b-%d-%Y %H:%M:%S')"
   ]
  },
  {
   "cell_type": "code",
   "execution_count": 10,
   "metadata": {},
   "outputs": [
    {
     "data": {
      "text/plain": [
       "datetime.datetime(2017, 4, 16, 21, 1, 35)"
      ]
     },
     "execution_count": 10,
     "metadata": {},
     "output_type": "execute_result"
    }
   ],
   "source": [
    "datetime.strptime('Apr-16-2017 21:01:35', '%b-%d-%Y %X')"
   ]
  },
  {
   "cell_type": "markdown",
   "metadata": {},
   "source": [
    "- 两者综合运用，这样你可以将你要的时间数据完美解决了"
   ]
  },
  {
   "cell_type": "code",
   "execution_count": 11,
   "metadata": {},
   "outputs": [
    {
     "name": "stdout",
     "output_type": "stream",
     "text": [
      "2016-09-10 04:23:21\n",
      "2016-09-10-04-----23\n"
     ]
    }
   ],
   "source": [
    "time_str = '2016-9-10 4:23-21'\n",
    "time = datetime.strptime(time_str, '%Y-%m-%d %H:%M-%S')# 根据字符串本身的格式进行转换\n",
    "print(time)\n",
    "print(time.strftime('%Y-%m-%d-%H-----%M'))"
   ]
  },
  {
   "cell_type": "code",
   "execution_count": 12,
   "metadata": {},
   "outputs": [
    {
     "name": "stdout",
     "output_type": "stream",
     "text": [
      "2016-09-03 00:00:00\n",
      "2016==09--09\n"
     ]
    }
   ],
   "source": [
    "time_str = '20160903'\n",
    "time=datetime.strptime(time_str,'%Y%m%d')\n",
    "print(time)\n",
    "print(time.strftime(\"%Y==%m--%m\"))"
   ]
  },
  {
   "cell_type": "markdown",
   "metadata": {},
   "source": [
    "- .ctime() 接受结构化时间，转化为我们比较能接受的时间字符串格式，相当于strftime（）功能，不过可以偷懒,不用写出转换格式"
   ]
  },
  {
   "cell_type": "code",
   "execution_count": 13,
   "metadata": {},
   "outputs": [
    {
     "name": "stdout",
     "output_type": "stream",
     "text": [
      "Wed Dec 12 11:49:46 2018\n",
      "Wed Dec 12 11:49:46 2018\n",
      "Wed Dec 12 11:49:46 2018\n",
      "Wed Dec 11:49:46 12/12/18\n"
     ]
    }
   ],
   "source": [
    "print(datetime.ctime(datetime.now()))\n",
    "print(datetime.now().strftime(\"%c\"))#期时间的字符串表示。（Wed Dec 12 11:19:15 2018）\n",
    "print(datetime.now().strftime(\"%a %b %d %X %Y\"))#{%a:星期简写，%b：月份简写，%X：时分秒简写，%Y：4位数字年}\n",
    "print(datetime.now().strftime(\"%a %b %X %x\"))#{%a:星期简写，%b：月份简写，%X：时分秒简写，%Y：4位数字年}"
   ]
  },
  {
   "cell_type": "markdown",
   "metadata": {},
   "source": [
    "- .fromtimestamp()将时间戳，转化为结构化时间，时间戳，可以这么获取，见下"
   ]
  },
  {
   "cell_type": "code",
   "execution_count": 14,
   "metadata": {},
   "outputs": [
    {
     "name": "stdout",
     "output_type": "stream",
     "text": [
      "1544586587.0359433\n"
     ]
    }
   ],
   "source": [
    "import time\n",
    "timestamp=time.time()\n",
    "print(timestamp)"
   ]
  },
  {
   "cell_type": "code",
   "execution_count": 15,
   "metadata": {},
   "outputs": [
    {
     "data": {
      "text/plain": [
       "datetime.datetime(2018, 12, 12, 11, 49, 47, 35943)"
      ]
     },
     "execution_count": 15,
     "metadata": {},
     "output_type": "execute_result"
    }
   ],
   "source": [
    "datetime.fromtimestamp(timestamp)"
   ]
  },
  {
   "cell_type": "code",
   "execution_count": 16,
   "metadata": {},
   "outputs": [
    {
     "name": "stdout",
     "output_type": "stream",
     "text": [
      "2018\n",
      "12\n",
      "12\n",
      "11\n",
      "49\n",
      "48\n",
      "131005\n",
      "None\n",
      "2018-12-12\n",
      "11:49:48.131005\n",
      "2013-12-12 11:49:48.131005\n",
      "time.struct_time(tm_year=2018, tm_mon=12, tm_mday=12, tm_hour=11, tm_min=49, tm_sec=48, tm_wday=2, tm_yday=346, tm_isdst=-1)\n",
      "time.struct_time(tm_year=2018, tm_mon=12, tm_mday=12, tm_hour=11, tm_min=49, tm_sec=48, tm_wday=2, tm_yday=346, tm_isdst=0)\n",
      "737040\n",
      "2\n",
      "(2018, 50, 3)\n"
     ]
    }
   ],
   "source": [
    "dt=datetime.now()\n",
    "print (dt.year)\n",
    "print(dt.month)\n",
    "print(dt.day)\n",
    "print(dt.hour)\n",
    "print(dt.minute)\n",
    "print(dt.second)\n",
    "print(dt.microsecond)\n",
    "print(dt.tzinfo)\n",
    "print (dt.date())\n",
    "print (dt.time())\n",
    "print (dt.replace(year = 2013))\n",
    "print (dt.timetuple())\n",
    "print (dt.utctimetuple())\n",
    "print (dt.toordinal())\n",
    "print (dt.weekday())\n",
    "print (dt.isocalendar())\n",
    "#print dt.isoformat([sep])\n",
    "#datetime. ctime ()：返回一个日期时间的C格式字符串，等效于time.ctime(time.mktime(dt.timetuple()))；"
   ]
  },
  {
   "cell_type": "code",
   "execution_count": 17,
   "metadata": {},
   "outputs": [
    {
     "name": "stdout",
     "output_type": "stream",
     "text": [
      "(%Y-%m-%d %H:%M:%S %f): 2018-12-12 11:49:48 460024\n",
      "(%Y-%m-%d %H:%M:%S %p): 18-12-12 11:49:48 AM\n",
      "%a: Wed \n",
      "%A: Wednesday \n",
      "%b: Dec \n",
      "%B: December \n",
      "日期时间%c: Wed Dec 12 11:49:48 2018 \n",
      "日期%x：12/12/18 \n",
      "时间%X：11:49:48 \n",
      "今天是这周的第3天 \n",
      "今天是今年的第346天 \n",
      "今周是今年的第49周 \n",
      "今周是今年的第50周 \n"
     ]
    }
   ],
   "source": [
    "#3. 格式字符串\n",
    "# datetime. strftime (format)\n",
    "# %a 星期的简写。如 星期三为Web\n",
    "# %A 星期的全写。如 星期三为Wednesday\n",
    "# %b 月份的简写。如4月份为Apr\n",
    "# %B月份的全写。如4月份为April \n",
    "# %c:  日期时间的字符串表示。（如： 04/07/10 10:43:39）\n",
    "# %d:  日在这个月中的天数（是这个月的第几天）\n",
    "# %f:  微秒（范围[0,999999]）\n",
    "# %H:  小时（24小时制，[0, 23]）\n",
    "# %I:  小时（12小时制，[0, 11]）\n",
    "# %j:  日在年中的天数 [001,366]（是当年的第几天）\n",
    "# %m:  月份（[01,12]）\n",
    "# %M:  分钟（[00,59]）\n",
    "# %p:  AM或者PM\n",
    "# %S:  秒（范围为[00,61]，为什么不是[00, 59]，参考python手册~_~）\n",
    "# %U:  周在当年的周数当年的第几周），星期天作为周的第一天\n",
    "# %w:  今天在这周的天数，范围为[0, 6]，6表示星期天\n",
    "# %W:  周在当年的周数（是当年的第几周），星期一作为周的第一天\n",
    "# %x:  日期字符串（如：04/07/10）\n",
    "# %X:  时间字符串（如：10:43:39）\n",
    "# %y:  2个数字表示的年份\n",
    "# %Y:  4个数字表示的年份\n",
    "# %z:  与utc时间的间隔 （如果是本地时间，返回空字符串）\n",
    "# %Z:  时区名称（如果是本地时间，返回空字符串）\n",
    "# %%:  %% => %\n",
    " \n",
    " \n",
    "dt = datetime.now()\n",
    "#print: (%Y-%m-%d %H:%M:%S %f):  2012-09-12 23:04:27 145000\n",
    "print ('(%Y-%m-%d %H:%M:%S %f): '+ str(dt.strftime('%Y-%m-%d %H:%M:%S %f')))\n",
    "#print: (%Y-%m-%d %H:%M:%S %p):  12-09-12 11:04:27 PM\n",
    "print ('(%Y-%m-%d %H:%M:%S %p): '+str(dt.strftime('%y-%m-%d %I:%M:%S %p')))\n",
    " \n",
    "#print: %a: Wed \n",
    "print ('%%a: %s ' % dt.strftime('%a'))\n",
    "#print: %A: Wednesday\n",
    "print ('%%A: %s ' % dt.strftime('%A'))\n",
    "#print: %b: Sep \n",
    "print ('%%b: %s ' % dt.strftime('%b'))\n",
    "#print: %B: September\n",
    "print ('%%B: %s ' % dt.strftime('%B'))\n",
    "#print: 日期时间%c: 09/12/12 23:04:27\n",
    "print ('日期时间%%c: %s ' % dt.strftime('%c'))\n",
    "#print: 日期%x：09/12/12\n",
    "print ('日期%%x：%s ' % dt.strftime('%x'))\n",
    "#print: 时间%X：23:04:27\n",
    "print ('时间%%X：%s ' % dt.strftime('%X'))\n",
    "#print: 今天是这周的第3天\n",
    "print ('今天是这周的第%s天 ' % dt.strftime('%w'))\n",
    "#print: 今天是今年的第256天 \n",
    "print ('今天是今年的第%s天 ' % dt.strftime('%j'))\n",
    "#print: 今周是今年的第37周\n",
    "print ('今周是今年的第%s周 ' % dt.strftime('%U'))\n",
    "print ('今周是今年的第%s周 ' % dt.strftime('%W'))"
   ]
  },
  {
   "cell_type": "markdown",
   "metadata": {},
   "source": [
    "datetime.strptime是通过已知格式进行日期分析的最佳方式，但是每次都有编写格式定义是很麻烦的时间，尤其是对于一些常见的日期格式（《利用Python进行数据分析》），推荐使用dateutil（工具类））这个第三方包中的parser.parse（解析器，解析）方法。"
   ]
  },
  {
   "cell_type": "code",
   "execution_count": 18,
   "metadata": {},
   "outputs": [
    {
     "data": {
      "text/plain": [
       "'2016-09-10-04-23'"
      ]
     },
     "execution_count": 18,
     "metadata": {},
     "output_type": "execute_result"
    }
   ],
   "source": [
    "from dateutil.parser import parse\n",
    "parse('2016-09-10 4:23:21').strftime('%Y-%m-%d-%H-%M')"
   ]
  },
  {
   "cell_type": "code",
   "execution_count": 19,
   "metadata": {},
   "outputs": [
    {
     "name": "stdout",
     "output_type": "stream",
     "text": [
      "20181106\n",
      "2018-11-06 00:00:00\n"
     ]
    }
   ],
   "source": [
    "a=20181106\n",
    "#b=str(5)  错误。。。。\n",
    "b='%s'%a\n",
    "print(b)\n",
    "c=parse(b)\n",
    "print(c)"
   ]
  },
  {
   "cell_type": "code",
   "execution_count": 20,
   "metadata": {},
   "outputs": [
    {
     "name": "stdout",
     "output_type": "stream",
     "text": [
      "2018-11-06 00:00:00\n",
      "2018-11-06 00:00:00\n"
     ]
    }
   ],
   "source": [
    "a=20181106\n",
    "b='%s'%a\n",
    "struct_time=datetime.strptime(b,\"%Y%m%d\")\n",
    "print(struct_time)\n",
    "print(struct_time.strftime(\"%Y-%m-%d %X\"))#字符串类型"
   ]
  },
  {
   "cell_type": "markdown",
   "metadata": {},
   "source": [
    "strptime() argument 1 must be str, not datetime.datetime\n",
    "\n",
    "待转化的参数必须是字符串类型，而不是结构化时间"
   ]
  },
  {
   "cell_type": "code",
   "execution_count": 21,
   "metadata": {},
   "outputs": [
    {
     "ename": "TypeError",
     "evalue": "strptime() argument 1 must be str, not datetime.datetime",
     "output_type": "error",
     "traceback": [
      "\u001b[1;31m---------------------------------------------------------------------------\u001b[0m",
      "\u001b[1;31mTypeError\u001b[0m                                 Traceback (most recent call last)",
      "\u001b[1;32m<ipython-input-21-5be598ba29de>\u001b[0m in \u001b[0;36m<module>\u001b[1;34m\u001b[0m\n\u001b[1;32m----> 1\u001b[1;33m \u001b[0mdatetime\u001b[0m\u001b[1;33m.\u001b[0m\u001b[0mstrptime\u001b[0m\u001b[1;33m(\u001b[0m\u001b[0mdatetime\u001b[0m\u001b[1;33m.\u001b[0m\u001b[0mnow\u001b[0m\u001b[1;33m(\u001b[0m\u001b[1;33m)\u001b[0m\u001b[1;33m,\u001b[0m \u001b[1;34m'%Y-%m-%d %H:%M:%S'\u001b[0m\u001b[1;33m)\u001b[0m\u001b[1;33m\u001b[0m\u001b[0m\n\u001b[0m",
      "\u001b[1;31mTypeError\u001b[0m: strptime() argument 1 must be str, not datetime.datetime"
     ]
    }
   ],
   "source": [
    "datetime.strptime(datetime.now(), '%Y-%m-%d %H:%M:%S')"
   ]
  },
  {
   "cell_type": "markdown",
   "metadata": {},
   "source": [
    "- datetime.timedelta"
   ]
  },
  {
   "cell_type": "code",
   "execution_count": 22,
   "metadata": {},
   "outputs": [
    {
     "name": "stdout",
     "output_type": "stream",
     "text": [
      "-1 day, 0:00:00\n"
     ]
    },
    {
     "ename": "AttributeError",
     "evalue": "'datetime.timedelta' object has no attribute 'hour'",
     "output_type": "error",
     "traceback": [
      "\u001b[1;31m---------------------------------------------------------------------------\u001b[0m",
      "\u001b[1;31mAttributeError\u001b[0m                            Traceback (most recent call last)",
      "\u001b[1;32m<ipython-input-22-2531d6757bee>\u001b[0m in \u001b[0;36m<module>\u001b[1;34m\u001b[0m\n\u001b[0;32m      3\u001b[0m \u001b[0mtime_2\u001b[0m \u001b[1;33m=\u001b[0m \u001b[0mdatetime\u001b[0m\u001b[1;33m.\u001b[0m\u001b[0mnow\u001b[0m\u001b[1;33m(\u001b[0m\u001b[1;33m)\u001b[0m\u001b[1;33m+\u001b[0m\u001b[0mtimedelta\u001b[0m\u001b[1;33m(\u001b[0m\u001b[0mdays\u001b[0m\u001b[1;33m=\u001b[0m\u001b[1;33m-\u001b[0m\u001b[1;36m1\u001b[0m\u001b[1;33m)\u001b[0m\u001b[1;33m\u001b[0m\u001b[0m\n\u001b[0;32m      4\u001b[0m \u001b[0mprint\u001b[0m\u001b[1;33m(\u001b[0m\u001b[0mtime_2\u001b[0m\u001b[1;33m-\u001b[0m\u001b[0mtime_1\u001b[0m\u001b[1;33m)\u001b[0m\u001b[1;33m\u001b[0m\u001b[0m\n\u001b[1;32m----> 5\u001b[1;33m \u001b[0mprint\u001b[0m\u001b[1;33m(\u001b[0m\u001b[1;33m(\u001b[0m\u001b[0mtime_2\u001b[0m\u001b[1;33m-\u001b[0m\u001b[0mtime_1\u001b[0m\u001b[1;33m)\u001b[0m\u001b[1;33m.\u001b[0m\u001b[0mhour\u001b[0m\u001b[1;33m)\u001b[0m\u001b[1;33m\u001b[0m\u001b[0m\n\u001b[0m",
      "\u001b[1;31mAttributeError\u001b[0m: 'datetime.timedelta' object has no attribute 'hour'"
     ]
    }
   ],
   "source": [
    "from datetime import timedelta\n",
    "time_1 = datetime.now()\n",
    "time_2 = datetime.now()+timedelta(days=-1)\n",
    "print(time_2-time_1)\n",
    "print((time_2-time_1).hour)"
   ]
  },
  {
   "cell_type": "code",
   "execution_count": 23,
   "metadata": {},
   "outputs": [
    {
     "name": "stdout",
     "output_type": "stream",
     "text": [
      "2018-12-11\n"
     ]
    }
   ],
   "source": [
    "time = datetime.now().date()- timedelta(days = 1)  #这里如果不写days默认也是days\n",
    "print (time)"
   ]
  },
  {
   "cell_type": "code",
   "execution_count": 24,
   "metadata": {},
   "outputs": [
    {
     "data": {
      "text/plain": [
       "datetime.datetime(2015, 5, 9, 0, 0)"
      ]
     },
     "execution_count": 24,
     "metadata": {},
     "output_type": "execute_result"
    }
   ],
   "source": [
    "datetime(2015,5,9)"
   ]
  },
  {
   "cell_type": "code",
   "execution_count": null,
   "metadata": {},
   "outputs": [],
   "source": []
  }
 ],
 "metadata": {
  "kernelspec": {
   "display_name": "Python 3",
   "language": "python",
   "name": "python3"
  },
  "language_info": {
   "codemirror_mode": {
    "name": "ipython",
    "version": 3
   },
   "file_extension": ".py",
   "mimetype": "text/x-python",
   "name": "python",
   "nbconvert_exporter": "python",
   "pygments_lexer": "ipython3",
   "version": "3.6.5"
  }
 },
 "nbformat": 4,
 "nbformat_minor": 2
}
